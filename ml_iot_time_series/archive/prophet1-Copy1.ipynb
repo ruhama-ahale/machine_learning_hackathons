{
 "cells": [
  {
   "cell_type": "markdown",
   "metadata": {},
   "source": [
    "## Module 1 : Fetch Data"
   ]
  },
  {
   "cell_type": "code",
   "execution_count": 1,
   "metadata": {},
   "outputs": [
    {
     "name": "stdout",
     "output_type": "stream",
     "text": [
      "train_aWnotuB.csv : Read csv to dataframe sucessfully\n",
      "Shape of dataframe (48120, 4) Memory Usage 4812160\n",
      "Dataframe is single timeseries\n",
      "test_BdBKkAj_L87Nc3S.csv : Read csv to dataframe sucessfully\n",
      "Shape of dataframe (11808, 3) Memory Usage 1086496\n",
      "Dataframe is single timeseries\n"
     ]
    },
    {
     "data": {
      "text/html": [
       "<div>\n",
       "<style scoped>\n",
       "    .dataframe tbody tr th:only-of-type {\n",
       "        vertical-align: middle;\n",
       "    }\n",
       "\n",
       "    .dataframe tbody tr th {\n",
       "        vertical-align: top;\n",
       "    }\n",
       "\n",
       "    .dataframe thead th {\n",
       "        text-align: right;\n",
       "    }\n",
       "</style>\n",
       "<table border=\"1\" class=\"dataframe\">\n",
       "  <thead>\n",
       "    <tr style=\"text-align: right;\">\n",
       "      <th></th>\n",
       "      <th>ds</th>\n",
       "      <th>Junction</th>\n",
       "      <th>y</th>\n",
       "      <th>ID</th>\n",
       "    </tr>\n",
       "  </thead>\n",
       "  <tbody>\n",
       "    <tr>\n",
       "      <td>0</td>\n",
       "      <td>2015-11-01 00:00:00</td>\n",
       "      <td>1</td>\n",
       "      <td>15</td>\n",
       "      <td>20151101001</td>\n",
       "    </tr>\n",
       "    <tr>\n",
       "      <td>1</td>\n",
       "      <td>2015-11-01 01:00:00</td>\n",
       "      <td>1</td>\n",
       "      <td>13</td>\n",
       "      <td>20151101011</td>\n",
       "    </tr>\n",
       "    <tr>\n",
       "      <td>2</td>\n",
       "      <td>2015-11-01 02:00:00</td>\n",
       "      <td>1</td>\n",
       "      <td>10</td>\n",
       "      <td>20151101021</td>\n",
       "    </tr>\n",
       "    <tr>\n",
       "      <td>3</td>\n",
       "      <td>2015-11-01 03:00:00</td>\n",
       "      <td>1</td>\n",
       "      <td>7</td>\n",
       "      <td>20151101031</td>\n",
       "    </tr>\n",
       "    <tr>\n",
       "      <td>4</td>\n",
       "      <td>2015-11-01 04:00:00</td>\n",
       "      <td>1</td>\n",
       "      <td>9</td>\n",
       "      <td>20151101041</td>\n",
       "    </tr>\n",
       "  </tbody>\n",
       "</table>\n",
       "</div>"
      ],
      "text/plain": [
       "                    ds  Junction   y           ID\n",
       "0  2015-11-01 00:00:00         1  15  20151101001\n",
       "1  2015-11-01 01:00:00         1  13  20151101011\n",
       "2  2015-11-01 02:00:00         1  10  20151101021\n",
       "3  2015-11-01 03:00:00         1   7  20151101031\n",
       "4  2015-11-01 04:00:00         1   9  20151101041"
      ]
     },
     "execution_count": 1,
     "metadata": {},
     "output_type": "execute_result"
    }
   ],
   "source": [
    "# Import modules\n",
    "# Read data\n",
    "import os\n",
    "import sys\n",
    "import pickle\n",
    "\n",
    "# Dataframes\n",
    "import math\n",
    "import numpy as np\n",
    "import pandas as pd\n",
    "import matplotlib.pyplot as plt\n",
    "from pandas import concat\n",
    "# display and formatting\n",
    "import warnings\n",
    "warnings.filterwarnings('ignore')\n",
    "pd.options.display.float_format = '{:.2f}'.format\n",
    "pd.set_option('display.max_rows', 500)\n",
    "pd.set_option('display.max_columns', 500)\n",
    "pd.set_option('display.width', 1000)\n",
    "\n",
    "\n",
    "# Stats\n",
    "from statsmodels.tsa.api import ExponentialSmoothing, SimpleExpSmoothing, Holt\n",
    "from scipy.optimize import curve_fit\n",
    "import numpy.polynomial.polynomial as poly\n",
    "\n",
    "# Config\n",
    "folder = './data/'\n",
    "train = 'train_aWnotuB.csv'\n",
    "test = 'test_BdBKkAj_L87Nc3S.csv'\n",
    "sub = 'sample_submission_KVKNmI7.csv'\n",
    "\n",
    "\n",
    "def _ReadCsv_pd(datafolder, file):\n",
    "    \"\"\"Read CSV file from remote path.\n",
    "    Returns:\n",
    "      The contents of CSV file.\n",
    "    Raises:\n",
    "      ValueError: Unable to read file\n",
    "    \"\"\"\n",
    "    try:\n",
    "        df = pd.read_csv(os.path.join(datafolder, file))\n",
    "        print(file, \": Read csv to dataframe sucessfully\")\n",
    "        print(\"Shape of dataframe\", df.shape, \"Memory Usage\", sys.getsizeof(df))\n",
    "    except Exception as e:\n",
    "        raise type(e)(e)\n",
    "        exit()\n",
    "    return(df)\n",
    "\n",
    "\n",
    "# df_copy = df.copy()\n",
    "\n",
    "def __GetTimeSeriesCount(df, col_name):\n",
    "    try:\n",
    "        print(pd.concat(g for _, g in df.groupby() if len(g) > 1))\n",
    "        \n",
    "    except:\n",
    "        print(\"Dataframe is single timeseries\")\n",
    "    return()\n",
    "\n",
    "\n",
    "def __SetColumnNames(df, id_col, ds_col, target_col):\n",
    "    df.rename(columns={ds_col: 'ds', id_col : 'ID', target_col : 'y'}, inplace=True)\n",
    "#     df.set_index('ds', drop = False, inplace = True)\n",
    "    return(df)\n",
    "\n",
    "# Fix in train\n",
    "train = _ReadCsv_pd(folder, train)\n",
    "__GetTimeSeriesCount(train,\"DateTime\")\n",
    "df = __SetColumnNames(train, id_col = 'ID', ds_col = 'DateTime', target_col = 'Vehicles')\n",
    "\n",
    "#Fix in test\n",
    "test = _ReadCsv_pd(folder, test)\n",
    "__GetTimeSeriesCount(test,\"DateTime\")\n",
    "test = __SetColumnNames(test, id_col = 'ID', ds_col = 'DateTime', target_col = 'Vehicles')\n",
    "\n",
    "df.head()\n"
   ]
  },
  {
   "cell_type": "markdown",
   "metadata": {},
   "source": [
    "## Module 2 : Clean Data"
   ]
  },
  {
   "cell_type": "code",
   "execution_count": 2,
   "metadata": {},
   "outputs": [
    {
     "name": "stdout",
     "output_type": "stream",
     "text": [
      "Null info in data:  0\n",
      "These are the missing values proportions in each column\n",
      "ds         0.00\n",
      "Junction   0.00\n",
      "y          0.00\n",
      "ID         0.00\n",
      "dtype: float64\n",
      "% Missing data in each column \n",
      " ()\n",
      "[]\n"
     ]
    }
   ],
   "source": [
    "def __GetIntCols(df, collist):\n",
    "    for col in collist:\n",
    "        df[col] = df[col].str.extract('(\\d+)').astype(float)\n",
    "    return(df)\n",
    "\n",
    "def get_prop_missing_values(df):\n",
    "    print(\"Null info in data: \", df.isna().any().sum())\n",
    "    #prop_missing = round((df[df.columns[:]].isnull().sum()/df[df.columns[:]].count())*100,4)\n",
    "    prop_missing = round((df.isnull().sum()/len(df))*100,2)\n",
    "    print(\"These are the missing values proportions in each column\")\n",
    "    print(prop_missing)\n",
    "    return()\n",
    "\n",
    "\n",
    "def __SetColumnTypes(df, change_to_int_list = ['col1']):\n",
    "    cols = df.columns\n",
    "    try:\n",
    "        df = __GetIntCols(df, change_to_int_list)\n",
    "    except:\n",
    "        pass\n",
    "    # Check for any null values in the data\n",
    "    print(\"% Missing data in each column \\n\",get_prop_missing_values(df))\n",
    "    return(df, cols)\n",
    "\n",
    "\n",
    "# For this particular dataframe\n",
    "\n",
    "df['ds'] = pd.to_datetime(df['ds'])\n",
    "clean_df, cols = __SetColumnTypes(df)\n",
    "\n",
    "# Get list of column by types\n",
    "num_cols = df.select_dtypes(include=np.number).columns.tolist()\n",
    "cat_cols = list(set(cols) - set(num_cols))\n",
    "cat_cols.remove('ds')\n",
    "print(cat_cols)"
   ]
  },
  {
   "cell_type": "code",
   "execution_count": 3,
   "metadata": {},
   "outputs": [
    {
     "name": "stdout",
     "output_type": "stream",
     "text": [
      "No missing timesteps for group 1\n",
      "No missing timesteps for group 2\n",
      "No missing timesteps for group 3\n",
      "Missing timesteps for group 4\n",
      "Group len VS Timesteps\n",
      "4344 14592\n",
      "No missing timesteps for group 4\n"
     ]
    },
    {
     "data": {
      "text/plain": [
       "()"
      ]
     },
     "execution_count": 3,
     "metadata": {},
     "output_type": "execute_result"
    }
   ],
   "source": [
    "def __CheckMissingTimeSteps(dfs, group_col):\n",
    "    tdf = pd.DataFrame({'date': pd.date_range(start='2015-11-01 00:00:00', end='2017-06-30 23:00:00', freq='H')})\n",
    "    len_tdf = len(tdf)\n",
    "    vals = dfs[group_col].unique()\n",
    "    for i in vals:\n",
    "        if len(dfs[dfs[group_col] == i]) == len_tdf:\n",
    "            print(\"No missing timesteps for group\", i)\n",
    "        else:\n",
    "            print(\"Missing timesteps for group\", i)\n",
    "            print(\"Group len VS Timesteps\")\n",
    "            print(len(dfs[dfs[group_col] == i]), len_tdf)\n",
    "    return()\n",
    "\n",
    "__CheckMissingTimeSteps(clean_df, group_col='Junction')\n",
    "\n",
    "#Since we see missing timesteps in group 4, we checked and found that group4 started at later date. Checking again:\n",
    "\n",
    "def __CheckMissingTimeSteps(dfs, group_col):\n",
    "    tdf = pd.DataFrame({'date': pd.date_range(start='2017-01-01 00:00:00', end='2017-06-30 23:00:00', freq='H')})\n",
    "    len_tdf = len(tdf)\n",
    "    vals = dfs[group_col].unique()\n",
    "    for i in vals:\n",
    "        if len(dfs[dfs[group_col] == i]) == len_tdf:\n",
    "            print(\"No missing timesteps for group\", i)\n",
    "        else:\n",
    "            print(\"Missing timesteps for group\", i)\n",
    "            print(\"Group len VS Timesteps\")\n",
    "            print(len(dfs[dfs[group_col] == i]), len_tdf)\n",
    "    return()\n",
    "\n",
    "__CheckMissingTimeSteps(clean_df[clean_df['Junction'] == 4], group_col='Junction')"
   ]
  },
  {
   "cell_type": "markdown",
   "metadata": {},
   "source": [
    "## Module 3 : Pre-Proccess Model Data"
   ]
  },
  {
   "cell_type": "code",
   "execution_count": 4,
   "metadata": {},
   "outputs": [
    {
     "name": "stdout",
     "output_type": "stream",
     "text": [
      "Min date train main 2015-11-01 00:00:00 Max date train main 2017-03-22 17:00:00\n",
      "Min date test main 2017-03-22 18:00:00 Max date test main 2017-06-30 23:00:00\n",
      "Length of train 38496 Length of test 9624\n"
     ]
    }
   ],
   "source": [
    "# Helper functions\n",
    "# Split dataframe\n",
    "def __SplitTrainTest(X, prop = 0.95):\n",
    "    '''Takes in the dataframe and proprtion of train size and returns the train and test sets'''\n",
    "    X.sort_values(by='ds', ascending=True, inplace = True)\n",
    "    train_size = int(len(X) * prop)\n",
    "    train, test = X[0:train_size], X[train_size:len(X)]\n",
    "    print(\"Min date train main\", train.ds.min(), \"Max date train main\", train.ds.max())\n",
    "    print(\"Min date test main\", test.ds.min(), \"Max date test main\", test.ds.max())\n",
    "    print(\"Length of train\", len(train), \"Length of test\", len(test))\n",
    "    return(train, test)\n",
    "\n",
    "\n",
    "train_df, test_df = __SplitTrainTest(clean_df, prop = 0.80)"
   ]
  },
  {
   "cell_type": "markdown",
   "metadata": {},
   "source": [
    "## Module 4 : Exploratory Data Analysis"
   ]
  },
  {
   "cell_type": "code",
   "execution_count": 5,
   "metadata": {},
   "outputs": [
    {
     "name": "stdout",
     "output_type": "stream",
     "text": [
      "Distribution for\n",
      "a\n",
      "Cat col not found\n"
     ]
    },
    {
     "data": {
      "image/png": "[encoded data removed]",
      "text/plain": [
       "<Figure size 1440x1080 with 4 Axes>"
      ]
     },
     "metadata": {
      "needs_background": "light"
     },
     "output_type": "display_data"
    },
    {
     "data": {
      "text/html": [
       "<div>\n",
       "<style scoped>\n",
       "    .dataframe tbody tr th:only-of-type {\n",
       "        vertical-align: middle;\n",
       "    }\n",
       "\n",
       "    .dataframe tbody tr th {\n",
       "        vertical-align: top;\n",
       "    }\n",
       "\n",
       "    .dataframe thead th {\n",
       "        text-align: right;\n",
       "    }\n",
       "</style>\n",
       "<table border=\"1\" class=\"dataframe\">\n",
       "  <thead>\n",
       "    <tr style=\"text-align: right;\">\n",
       "      <th></th>\n",
       "      <th>Junction</th>\n",
       "      <th>y</th>\n",
       "      <th>ID</th>\n",
       "    </tr>\n",
       "  </thead>\n",
       "  <tbody>\n",
       "    <tr>\n",
       "      <td>count</td>\n",
       "      <td>38496.00</td>\n",
       "      <td>38496.00</td>\n",
       "      <td>38496.00</td>\n",
       "    </tr>\n",
       "    <tr>\n",
       "      <td>mean</td>\n",
       "      <td>2.10</td>\n",
       "      <td>21.17</td>\n",
       "      <td>20161503534.75</td>\n",
       "    </tr>\n",
       "    <tr>\n",
       "      <td>std</td>\n",
       "      <td>0.91</td>\n",
       "      <td>18.43</td>\n",
       "      <td>5290818.03</td>\n",
       "    </tr>\n",
       "    <tr>\n",
       "      <td>min</td>\n",
       "      <td>1.00</td>\n",
       "      <td>1.00</td>\n",
       "      <td>20151101001.00</td>\n",
       "    </tr>\n",
       "    <tr>\n",
       "      <td>25%</td>\n",
       "      <td>1.00</td>\n",
       "      <td>9.00</td>\n",
       "      <td>20160313159.00</td>\n",
       "    </tr>\n",
       "    <tr>\n",
       "      <td>50%</td>\n",
       "      <td>2.00</td>\n",
       "      <td>15.00</td>\n",
       "      <td>20160725077.00</td>\n",
       "    </tr>\n",
       "    <tr>\n",
       "      <td>75%</td>\n",
       "      <td>3.00</td>\n",
       "      <td>27.00</td>\n",
       "      <td>20161205425.00</td>\n",
       "    </tr>\n",
       "    <tr>\n",
       "      <td>max</td>\n",
       "      <td>4.00</td>\n",
       "      <td>180.00</td>\n",
       "      <td>20170322174.00</td>\n",
       "    </tr>\n",
       "  </tbody>\n",
       "</table>\n",
       "</div>"
      ],
      "text/plain": [
       "       Junction        y             ID\n",
       "count  38496.00 38496.00       38496.00\n",
       "mean       2.10    21.17 20161503534.75\n",
       "std        0.91    18.43     5290818.03\n",
       "min        1.00     1.00 20151101001.00\n",
       "25%        1.00     9.00 20160313159.00\n",
       "50%        2.00    15.00 20160725077.00\n",
       "75%        3.00    27.00 20161205425.00\n",
       "max        4.00   180.00 20170322174.00"
      ]
     },
     "execution_count": 5,
     "metadata": {},
     "output_type": "execute_result"
    }
   ],
   "source": [
    "def __ExploringDataframe(df, cat_list= ['a']):\n",
    "    try:\n",
    "        for col in cat_list:\n",
    "            print(\"Distribution for\")\n",
    "            print(col)\n",
    "            print(df[col].value_counts())\n",
    "    except:\n",
    "        print(\"Cat col not found\")\n",
    "    # Above data as plots\n",
    "    df.hist(bins=50, figsize=(20,15))\n",
    "    plt.show()\n",
    "    return()\n",
    "\n",
    "__ExploringDataframe(train_df)\n",
    "# Lets look at the rest of the fields - we can check out the numeric data using describe method\n",
    "train_df.describe()"
   ]
  },
  {
   "cell_type": "markdown",
   "metadata": {},
   "source": [
    "## Module 5 : Prepare Model Data"
   ]
  },
  {
   "cell_type": "code",
   "execution_count": 22,
   "metadata": {},
   "outputs": [],
   "source": [
    "# Make changes on read test data\n",
    "\n",
    "full_test = test.copy()\n",
    "full_test.set_index('ds', drop = False, inplace = True)\n",
    "full_test_id = full_test[\"ID\"].copy()\n",
    "full_test = full_test.drop([\"ID\"], axis = 1)\n",
    "full_test_1 = full_test[full_test['Junction'] == 1]"
   ]
  },
  {
   "cell_type": "code",
   "execution_count": 23,
   "metadata": {},
   "outputs": [],
   "source": [
    "tr_df = train_df.copy()\n",
    "ts_df = test_df.copy()\n",
    "\n",
    "tr_df.set_index('ds', drop = False, inplace = True)\n",
    "ts_df.set_index('ds', drop = False, inplace = True)\n",
    "\n",
    "\n",
    "tr_id = tr_df[\"ID\"].copy()\n",
    "tr_df = tr_df.drop([\"ID\"], axis = 1)\n",
    "\n",
    "ts_id = ts_df[\"ID\"].copy()\n",
    "ts_df = ts_df.drop([\"ID\"], axis = 1)"
   ]
  },
  {
   "cell_type": "code",
   "execution_count": 24,
   "metadata": {},
   "outputs": [],
   "source": [
    "data_tr = tr_df[tr_df['Junction'] == 1]\n",
    "data_ts = ts_df[ts_df['Junction'] == 1]"
   ]
  },
  {
   "cell_type": "code",
   "execution_count": 25,
   "metadata": {},
   "outputs": [],
   "source": [
    "# for i in tr_df.Junction.unique().tolist():\n",
    "#     plt.plot(tr_df[tr_df['Junction'] == i].Vehicles)"
   ]
  },
  {
   "cell_type": "markdown",
   "metadata": {},
   "source": [
    "## Module 6: Exploring Time Series"
   ]
  },
  {
   "cell_type": "code",
   "execution_count": 26,
   "metadata": {},
   "outputs": [
    {
     "data": {
      "text/html": [
       "<div>\n",
       "<style scoped>\n",
       "    .dataframe tbody tr th:only-of-type {\n",
       "        vertical-align: middle;\n",
       "    }\n",
       "\n",
       "    .dataframe tbody tr th {\n",
       "        vertical-align: top;\n",
       "    }\n",
       "\n",
       "    .dataframe thead th {\n",
       "        text-align: right;\n",
       "    }\n",
       "</style>\n",
       "<table border=\"1\" class=\"dataframe\">\n",
       "  <thead>\n",
       "    <tr style=\"text-align: right;\">\n",
       "      <th></th>\n",
       "      <th>ds</th>\n",
       "      <th>y</th>\n",
       "    </tr>\n",
       "    <tr>\n",
       "      <th>ds</th>\n",
       "      <th></th>\n",
       "      <th></th>\n",
       "    </tr>\n",
       "  </thead>\n",
       "  <tbody>\n",
       "    <tr>\n",
       "      <td>2017-03-22 18:00:00</td>\n",
       "      <td>2017-03-22 18:00:00</td>\n",
       "      <td>91</td>\n",
       "    </tr>\n",
       "    <tr>\n",
       "      <td>2017-03-22 19:00:00</td>\n",
       "      <td>2017-03-22 19:00:00</td>\n",
       "      <td>101</td>\n",
       "    </tr>\n",
       "    <tr>\n",
       "      <td>2017-03-22 20:00:00</td>\n",
       "      <td>2017-03-22 20:00:00</td>\n",
       "      <td>98</td>\n",
       "    </tr>\n",
       "    <tr>\n",
       "      <td>2017-03-22 21:00:00</td>\n",
       "      <td>2017-03-22 21:00:00</td>\n",
       "      <td>96</td>\n",
       "    </tr>\n",
       "    <tr>\n",
       "      <td>2017-03-22 22:00:00</td>\n",
       "      <td>2017-03-22 22:00:00</td>\n",
       "      <td>91</td>\n",
       "    </tr>\n",
       "  </tbody>\n",
       "</table>\n",
       "</div>"
      ],
      "text/plain": [
       "                                     ds    y\n",
       "ds                                          \n",
       "2017-03-22 18:00:00 2017-03-22 18:00:00   91\n",
       "2017-03-22 19:00:00 2017-03-22 19:00:00  101\n",
       "2017-03-22 20:00:00 2017-03-22 20:00:00   98\n",
       "2017-03-22 21:00:00 2017-03-22 21:00:00   96\n",
       "2017-03-22 22:00:00 2017-03-22 22:00:00   91"
      ]
     },
     "execution_count": 26,
     "metadata": {},
     "output_type": "execute_result"
    }
   ],
   "source": [
    "data_ts = data_ts.drop([\"Junction\"], axis = 1)\n",
    "data_ts.head()"
   ]
  },
  {
   "cell_type": "code",
   "execution_count": 27,
   "metadata": {},
   "outputs": [
    {
     "data": {
      "text/html": [
       "<div>\n",
       "<style scoped>\n",
       "    .dataframe tbody tr th:only-of-type {\n",
       "        vertical-align: middle;\n",
       "    }\n",
       "\n",
       "    .dataframe tbody tr th {\n",
       "        vertical-align: top;\n",
       "    }\n",
       "\n",
       "    .dataframe thead th {\n",
       "        text-align: right;\n",
       "    }\n",
       "</style>\n",
       "<table border=\"1\" class=\"dataframe\">\n",
       "  <thead>\n",
       "    <tr style=\"text-align: right;\">\n",
       "      <th></th>\n",
       "      <th>ds</th>\n",
       "      <th>y</th>\n",
       "    </tr>\n",
       "    <tr>\n",
       "      <th>ds</th>\n",
       "      <th></th>\n",
       "      <th></th>\n",
       "    </tr>\n",
       "  </thead>\n",
       "  <tbody>\n",
       "    <tr>\n",
       "      <td>2015-11-01 00:00:00</td>\n",
       "      <td>2015-11-01 00:00:00</td>\n",
       "      <td>15</td>\n",
       "    </tr>\n",
       "    <tr>\n",
       "      <td>2015-11-01 01:00:00</td>\n",
       "      <td>2015-11-01 01:00:00</td>\n",
       "      <td>13</td>\n",
       "    </tr>\n",
       "    <tr>\n",
       "      <td>2015-11-01 02:00:00</td>\n",
       "      <td>2015-11-01 02:00:00</td>\n",
       "      <td>10</td>\n",
       "    </tr>\n",
       "    <tr>\n",
       "      <td>2015-11-01 03:00:00</td>\n",
       "      <td>2015-11-01 03:00:00</td>\n",
       "      <td>7</td>\n",
       "    </tr>\n",
       "    <tr>\n",
       "      <td>2015-11-01 04:00:00</td>\n",
       "      <td>2015-11-01 04:00:00</td>\n",
       "      <td>9</td>\n",
       "    </tr>\n",
       "  </tbody>\n",
       "</table>\n",
       "</div>"
      ],
      "text/plain": [
       "                                     ds   y\n",
       "ds                                         \n",
       "2015-11-01 00:00:00 2015-11-01 00:00:00  15\n",
       "2015-11-01 01:00:00 2015-11-01 01:00:00  13\n",
       "2015-11-01 02:00:00 2015-11-01 02:00:00  10\n",
       "2015-11-01 03:00:00 2015-11-01 03:00:00   7\n",
       "2015-11-01 04:00:00 2015-11-01 04:00:00   9"
      ]
     },
     "execution_count": 27,
     "metadata": {},
     "output_type": "execute_result"
    }
   ],
   "source": [
    "data_tr = data_tr.drop([\"Junction\"], axis = 1)\n",
    "data_tr.head()"
   ]
  },
  {
   "cell_type": "code",
   "execution_count": 28,
   "metadata": {},
   "outputs": [],
   "source": [
    "from fbprophet import Prophet"
   ]
  },
  {
   "cell_type": "code",
   "execution_count": 29,
   "metadata": {},
   "outputs": [
    {
     "name": "stderr",
     "output_type": "stream",
     "text": [
      "INFO:fbprophet:Disabling yearly seasonality. Run prophet with yearly_seasonality=True to override this.\n"
     ]
    },
    {
     "name": "stdout",
     "output_type": "stream",
     "text": [
      "Model trained\n"
     ]
    }
   ],
   "source": [
    "future_df = ts_df.copy()\n",
    "\n",
    "m1 = Prophet()\n",
    "#add regressors\n",
    "# for feature in regressors_ls:\n",
    "#     m1.add_regressor(feature)\n",
    "    \n",
    "m1.fit(data_tr)\n",
    "\n",
    "\n",
    "forecast1 = m1.predict(data_ts)\n",
    "print(\"Model trained\")\n"
   ]
  },
  {
   "cell_type": "code",
   "execution_count": 36,
   "metadata": {},
   "outputs": [],
   "source": [
    "# fig1 = m1.plot(forecast1)\n",
    "# fig2 = m1.plot_components(forecast1)"
   ]
  },
  {
   "cell_type": "code",
   "execution_count": null,
   "metadata": {},
   "outputs": [],
   "source": [
    "def __PrepModelDf(model_df):\n",
    "    df = model_df.copy()\n",
    "    df.set_index('ds', drop = False, inplace = True)\n",
    "    df_id = df[\"ID\"].copy()\n",
    "    df = df.drop([\"ID\"], axis = 1)\n",
    "    df = df.drop([\"Junction\"], axis = 1)\n",
    "    return(df, df_id)\n",
    "\n",
    "\n",
    "def mean_absolute_percentage_error(y_true, y_pred): \n",
    "    y_true, y_pred = np.array(y_true), np.array(y_pred)\n",
    "    return np.mean(np.abs((y_true - y_pred) / y_true)) * 100\n",
    "\n",
    "\n",
    "def __GetError(test, forecast):\n",
    "    actual = pd.Series(test['y'])\n",
    "    actual = actual.tolist()\n",
    "    predictions = forecast['yhat']\n",
    "    forecast['actual'] = actual\n",
    "    min_val = min(actual)\n",
    "    forecast['yhat'] = np.where(forecast['yhat'] < 0, min_val, forecast['yhat'])\n",
    "    mape = mean_absolute_percentage_error(actual, forecast['yhat'])\n",
    "    print(mape)\n",
    "    return()\n",
    "\n",
    "\n",
    "def __PlotPrediction(train, test, forecast):\n",
    "    fig = plt.figure(facecolor='w', figsize=(20, 6))\n",
    "    plt.plot(train.ds, train.y,  label='Train')\n",
    "    plt.plot(test.ds, test.y,  label='Test')\n",
    "    plt.plot(test.ds, forecast['yhat'],  label='Predicted')\n",
    "    plt.show()\n",
    "    return()\n"
   ]
  },
  {
   "cell_type": "code",
   "execution_count": 31,
   "metadata": {},
   "outputs": [],
   "source": [
    "def __ProphetFit(train, test):\n",
    "    '''Fits the prophet model on '''\n",
    "    ls = []\n",
    "#     for Cntry in data_grp.Country.unique().tolist():\n",
    "    for i in train.Junction.unique().tolist():\n",
    "        print(i)\n",
    "        tr_i = train[train['Junction'] == i]\n",
    "        ts_i = test[test['Junction'] == i]\n",
    "        \n",
    "        # Prep Data\n",
    "        tr_df, tr_id = __PrepModelDf(tr_i)\n",
    "        ts_df, ts_id = __PrepModelDf(ts_i)\n",
    "\n",
    "        #Fit model\n",
    "        m1 = Prophet()\n",
    "        m1.fit(tr_df)\n",
    "\n",
    "\n",
    "        forecast_df = m1.predict(ts_df)\n",
    "        print(\"Model trained\")\n",
    "        # Plots\n",
    "        __GetError(ts_df, forecast_df)\n",
    "        __PlotPrediction(tr_df, ts_df, forecast_df)\n",
    "        \n",
    "        forecast_df['ID'] = list(ts_id)\n",
    "        forecast_df['Junction'] = i\n",
    "        return(forecast_df)"
   ]
  },
  {
   "cell_type": "code",
   "execution_count": null,
   "metadata": {},
   "outputs": [],
   "source": []
  },
  {
   "cell_type": "code",
   "execution_count": null,
   "metadata": {},
   "outputs": [],
   "source": []
  },
  {
   "cell_type": "code",
   "execution_count": null,
   "metadata": {},
   "outputs": [],
   "source": []
  },
  {
   "cell_type": "code",
   "execution_count": 35,
   "metadata": {},
   "outputs": [
    {
     "name": "stdout",
     "output_type": "stream",
     "text": [
      "20.5122832814662\n"
     ]
    },
    {
     "data": {
      "text/plain": [
       "()"
      ]
     },
     "execution_count": 35,
     "metadata": {},
     "output_type": "execute_result"
    }
   ],
   "source": []
  },
  {
   "cell_type": "code",
   "execution_count": 34,
   "metadata": {},
   "outputs": [
    {
     "data": {
      "image/png": "[encoded data removed]",
      "text/plain": [
       "<Figure size 1440x432 with 1 Axes>"
      ]
     },
     "metadata": {},
     "output_type": "display_data"
    },
    {
     "data": {
      "text/plain": [
       "()"
      ]
     },
     "execution_count": 34,
     "metadata": {},
     "output_type": "execute_result"
    }
   ],
   "source": [
    "# Plots\n",
    "__GetError(data_ts, forecast1)\n",
    "__PlotPrediction(data_tr, data_ts, forecast1)"
   ]
  },
  {
   "cell_type": "code",
   "execution_count": null,
   "metadata": {},
   "outputs": [],
   "source": []
  },
  {
   "cell_type": "code",
   "execution_count": null,
   "metadata": {},
   "outputs": [],
   "source": [
    "\n",
    "for i in tr_df.Junction.unique().tolist():\n",
    "    ts = tr_df[tr_df['Junction'] == i]['Vehicles']\n",
    "    test_stationarity(ts)\n"
   ]
  },
  {
   "cell_type": "markdown",
   "metadata": {},
   "source": [
    "p-value > 0.05: Fail to reject the null hypothesis (H0), the data has a unit root and is non-stationary.\n",
    "p-value <= 0.05: Reject the null hypothesis (H0), the data does not have a unit root and is stationary."
   ]
  },
  {
   "cell_type": "code",
   "execution_count": null,
   "metadata": {},
   "outputs": [],
   "source": [
    "#Method 3 – Moving Average\n",
    "for i in tr_df.Junction.unique().tolist():\n",
    "    tri_df = tr_df[tr_df['Junction'] == i].copy()\n",
    "    tsi_df = test_df[test_df['Junction'] == i].copy()\n",
    "    y_hat_avg = tsi_df.copy()\n",
    "    y_hat_avg['moving_avg_forecast'] = tri_df['Vehicles'].rolling(60).mean().iloc[-1]\n",
    "    \n",
    "    error = mean_absolute_percentage_error(tsi_df['Vehicles'], y_hat_avg['moving_avg_forecast'])\n",
    "    \n",
    "    print(\"Error\", error)\n",
    "    plt.figure(figsize=(16,8))\n",
    "    plt.plot(tri_df['ds'], tri_df['Vehicles'], label='tri_df')\n",
    "    plt.plot(tsi_df['ds'], tsi_df['Vehicles'], label='tsi_df')\n",
    "    plt.plot(tsi_df['ds'], y_hat_avg['moving_avg_forecast'], label='Moving Average Forecast')\n",
    "    plt.legend(loc='best')\n",
    "plt.show()"
   ]
  },
  {
   "cell_type": "markdown",
   "metadata": {},
   "source": [
    "## Module 7 : Fit Trained Model"
   ]
  },
  {
   "cell_type": "code",
   "execution_count": null,
   "metadata": {},
   "outputs": [],
   "source": [
    "test_df = _ReadCsv_pd(folder, test)\n",
    "\n",
    "print(\"Junctions predict for test\", test_df.Junction.unique())\n",
    "print(\"Dates to predict for test\", test_df.DateTime.min(), test_df.DateTime.max())"
   ]
  },
  {
   "cell_type": "code",
   "execution_count": null,
   "metadata": {},
   "outputs": [],
   "source": [
    "ls = []\n",
    "for i in clean_df.Junction.unique().tolist():\n",
    "    tri_df = clean_df[clean_df['Junction'] == i].copy()\n",
    "    tsi_df = test_df[test_df['Junction'] == i].copy()\n",
    "    y_hat_avg = tsi_df.copy()\n",
    "    y_hat_avg['moving_avg_forecast'] = tri_df['Vehicles'].rolling(60).mean().iloc[-1]\n",
    "    ls.append(y_hat_avg)"
   ]
  },
  {
   "cell_type": "code",
   "execution_count": null,
   "metadata": {},
   "outputs": [],
   "source": [
    "df = pd.concat(ls)\n",
    "len(df)"
   ]
  },
  {
   "cell_type": "code",
   "execution_count": null,
   "metadata": {},
   "outputs": [],
   "source": [
    "len(test_df)"
   ]
  },
  {
   "cell_type": "markdown",
   "metadata": {},
   "source": [
    "## Module 9 : Predict"
   ]
  },
  {
   "cell_type": "code",
   "execution_count": null,
   "metadata": {},
   "outputs": [],
   "source": [
    "sub_df = _ReadCsv_pd(folder, sub)"
   ]
  },
  {
   "cell_type": "code",
   "execution_count": null,
   "metadata": {},
   "outputs": [],
   "source": [
    "submission1 = df[['ID', 'moving_avg_forecast']]\n",
    "submission1.rename(columns={'moving_avg_forecast': 'Vehicles'}, inplace=True)\n",
    "submission1.head()"
   ]
  },
  {
   "cell_type": "code",
   "execution_count": null,
   "metadata": {},
   "outputs": [],
   "source": [
    "output_directory = \"./submissions/\"\n",
    "submission1.to_csv(output_directory + \"ruhama_submission2.csv\", index=False)"
   ]
  },
  {
   "cell_type": "code",
   "execution_count": null,
   "metadata": {},
   "outputs": [],
   "source": []
  },
  {
   "cell_type": "code",
   "execution_count": null,
   "metadata": {},
   "outputs": [],
   "source": []
  },
  {
   "cell_type": "code",
   "execution_count": null,
   "metadata": {},
   "outputs": [],
   "source": []
  }
 ],
 "metadata": {
  "kernelspec": {
   "display_name": "Python 3.7.7 64-bit ('stanenv': conda)",
   "language": "python",
   "name": "python37764bitstanenvcondacb5abd8e03434c8b991652a8a0fe72b8"
  },
  "language_info": {
   "codemirror_mode": {
    "name": "ipython",
    "version": 3
   },
   "file_extension": ".py",
   "mimetype": "text/x-python",
   "name": "python",
   "nbconvert_exporter": "python",
   "pygments_lexer": "ipython3",
   "version": "3.7.7"
  }
 },
 "nbformat": 4,
 "nbformat_minor": 4
}
