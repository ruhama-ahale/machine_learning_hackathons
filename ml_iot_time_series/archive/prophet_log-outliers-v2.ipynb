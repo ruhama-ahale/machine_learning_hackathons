{
 "cells": [
  {
   "cell_type": "markdown",
   "metadata": {},
   "source": [
    "## Module 1 : Fetch Data"
   ]
  },
  {
   "cell_type": "code",
   "execution_count": 1,
   "metadata": {},
   "outputs": [
    {
     "name": "stdout",
     "output_type": "stream",
     "text": [
      "train_aWnotuB.csv : Read csv to dataframe sucessfully\n",
      "Shape of dataframe (48120, 4) Memory Usage 4812160\n",
      "Dataframe is single timeseries\n",
      "test_BdBKkAj_L87Nc3S.csv : Read csv to dataframe sucessfully\n",
      "Shape of dataframe (11808, 3) Memory Usage 1086496\n",
      "Dataframe is single timeseries\n"
     ]
    },
    {
     "data": {
      "text/html": [
       "<div>\n",
       "<style scoped>\n",
       "    .dataframe tbody tr th:only-of-type {\n",
       "        vertical-align: middle;\n",
       "    }\n",
       "\n",
       "    .dataframe tbody tr th {\n",
       "        vertical-align: top;\n",
       "    }\n",
       "\n",
       "    .dataframe thead th {\n",
       "        text-align: right;\n",
       "    }\n",
       "</style>\n",
       "<table border=\"1\" class=\"dataframe\">\n",
       "  <thead>\n",
       "    <tr style=\"text-align: right;\">\n",
       "      <th></th>\n",
       "      <th>ds</th>\n",
       "      <th>Junction</th>\n",
       "      <th>y</th>\n",
       "      <th>ID</th>\n",
       "    </tr>\n",
       "  </thead>\n",
       "  <tbody>\n",
       "    <tr>\n",
       "      <td>0</td>\n",
       "      <td>2015-11-01 00:00:00</td>\n",
       "      <td>1</td>\n",
       "      <td>15</td>\n",
       "      <td>20151101001</td>\n",
       "    </tr>\n",
       "    <tr>\n",
       "      <td>1</td>\n",
       "      <td>2015-11-01 01:00:00</td>\n",
       "      <td>1</td>\n",
       "      <td>13</td>\n",
       "      <td>20151101011</td>\n",
       "    </tr>\n",
       "    <tr>\n",
       "      <td>2</td>\n",
       "      <td>2015-11-01 02:00:00</td>\n",
       "      <td>1</td>\n",
       "      <td>10</td>\n",
       "      <td>20151101021</td>\n",
       "    </tr>\n",
       "    <tr>\n",
       "      <td>3</td>\n",
       "      <td>2015-11-01 03:00:00</td>\n",
       "      <td>1</td>\n",
       "      <td>7</td>\n",
       "      <td>20151101031</td>\n",
       "    </tr>\n",
       "    <tr>\n",
       "      <td>4</td>\n",
       "      <td>2015-11-01 04:00:00</td>\n",
       "      <td>1</td>\n",
       "      <td>9</td>\n",
       "      <td>20151101041</td>\n",
       "    </tr>\n",
       "  </tbody>\n",
       "</table>\n",
       "</div>"
      ],
      "text/plain": [
       "                    ds  Junction   y           ID\n",
       "0  2015-11-01 00:00:00         1  15  20151101001\n",
       "1  2015-11-01 01:00:00         1  13  20151101011\n",
       "2  2015-11-01 02:00:00         1  10  20151101021\n",
       "3  2015-11-01 03:00:00         1   7  20151101031\n",
       "4  2015-11-01 04:00:00         1   9  20151101041"
      ]
     },
     "execution_count": 1,
     "metadata": {},
     "output_type": "execute_result"
    }
   ],
   "source": [
    "# Import modules\n",
    "# Read data\n",
    "import os\n",
    "import sys\n",
    "import pickle\n",
    "\n",
    "# Dataframes\n",
    "import math\n",
    "import numpy as np\n",
    "import pandas as pd\n",
    "import matplotlib.pyplot as plt\n",
    "from pandas import concat\n",
    "# display and formatting\n",
    "import warnings\n",
    "warnings.filterwarnings('ignore')\n",
    "pd.options.display.float_format = '{:.2f}'.format\n",
    "pd.set_option('display.max_rows', 500)\n",
    "pd.set_option('display.max_columns', 500)\n",
    "pd.set_option('display.width', 1000)\n",
    "\n",
    "\n",
    "# Stats\n",
    "from statsmodels.tsa.api import ExponentialSmoothing, SimpleExpSmoothing, Holt\n",
    "from scipy.optimize import curve_fit\n",
    "import numpy.polynomial.polynomial as poly\n",
    "\n",
    "# Config\n",
    "folder = './data/'\n",
    "train = 'train_aWnotuB.csv'\n",
    "test = 'test_BdBKkAj_L87Nc3S.csv'\n",
    "sub = 'sample_submission_KVKNmI7.csv'\n",
    "\n",
    "\n",
    "def _ReadCsv_pd(datafolder, file):\n",
    "    \"\"\"Read CSV file from remote path.\n",
    "    Returns:\n",
    "      The contents of CSV file.\n",
    "    Raises:\n",
    "      ValueError: Unable to read file\n",
    "    \"\"\"\n",
    "    try:\n",
    "        df = pd.read_csv(os.path.join(datafolder, file))\n",
    "        print(file, \": Read csv to dataframe sucessfully\")\n",
    "        print(\"Shape of dataframe\", df.shape, \"Memory Usage\", sys.getsizeof(df))\n",
    "    except Exception as e:\n",
    "        raise type(e)(e)\n",
    "        exit()\n",
    "    return(df)\n",
    "\n",
    "\n",
    "# df_copy = df.copy()\n",
    "\n",
    "def __GetTimeSeriesCount(df, col_name):\n",
    "    try:\n",
    "        print(pd.concat(g for _, g in df.groupby() if len(g) > 1))\n",
    "        \n",
    "    except:\n",
    "        print(\"Dataframe is single timeseries\")\n",
    "    return()\n",
    "\n",
    "\n",
    "def __SetColumnNames(df, id_col, ds_col, target_col):\n",
    "    df.rename(columns={ds_col: 'ds', id_col : 'ID', target_col : 'y'}, inplace=True)\n",
    "#     df.set_index('ds', drop = False, inplace = True)\n",
    "    return(df)\n",
    "\n",
    "# Fix in train\n",
    "train = _ReadCsv_pd(folder, train)\n",
    "__GetTimeSeriesCount(train,\"DateTime\")\n",
    "df = __SetColumnNames(train, id_col = 'ID', ds_col = 'DateTime', target_col = 'Vehicles')\n",
    "\n",
    "#Fix in test\n",
    "test = _ReadCsv_pd(folder, test)\n",
    "__GetTimeSeriesCount(test,\"DateTime\")\n",
    "test = __SetColumnNames(test, id_col = 'ID', ds_col = 'DateTime', target_col = 'Vehicles')\n",
    "\n",
    "df.head()\n"
   ]
  },
  {
   "cell_type": "code",
   "execution_count": 2,
   "metadata": {},
   "outputs": [
    {
     "name": "stdout",
     "output_type": "stream",
     "text": [
      "                        ds  Junction   y           ID  cap  floor\n",
      "0      2015-11-01 00:00:00         1  15  20151101001  186      1\n",
      "1      2015-11-01 01:00:00         1  13  20151101011  186      1\n",
      "2      2015-11-01 02:00:00         1  10  20151101021  186      1\n",
      "3      2015-11-01 03:00:00         1   7  20151101031  186      1\n",
      "4      2015-11-01 04:00:00         1   9  20151101041  186      1\n",
      "...                    ...       ...  ..          ...  ...    ...\n",
      "48115  2017-06-30 19:00:00         4  11  20170630194   66      1\n",
      "48116  2017-06-30 20:00:00         4  30  20170630204   66      1\n",
      "48117  2017-06-30 21:00:00         4  16  20170630214   66      1\n",
      "48118  2017-06-30 22:00:00         4  22  20170630224   66      1\n",
      "48119  2017-06-30 23:00:00         4  12  20170630234   66      1\n",
      "\n",
      "[48120 rows x 6 columns]\n"
     ]
    }
   ],
   "source": [
    "cap_dict = {1: 156+30, 2: 48+30, 3: 180+30, 4: 36+30}\n",
    "\n",
    "df[\"cap\"] = df['Junction'].map(cap_dict)\n",
    "test['cap'] = test['Junction'].map(cap_dict)\n",
    "\n",
    "flr = df.y.min()\n",
    "df['floor'] = flr\n",
    "test['floor'] = flr\n",
    "print (df)"
   ]
  },
  {
   "cell_type": "markdown",
   "metadata": {},
   "source": [
    "## Module 2 : Clean Data"
   ]
  },
  {
   "cell_type": "code",
   "execution_count": 3,
   "metadata": {},
   "outputs": [
    {
     "name": "stdout",
     "output_type": "stream",
     "text": [
      "Null info in data:  0\n",
      "These are the missing values proportions in each column\n",
      "ds         0.00\n",
      "Junction   0.00\n",
      "y          0.00\n",
      "ID         0.00\n",
      "cap        0.00\n",
      "floor      0.00\n",
      "dtype: float64\n",
      "% Missing data in each column \n",
      " ()\n",
      "[]\n"
     ]
    }
   ],
   "source": [
    "def __GetIntCols(df, collist):\n",
    "    for col in collist:\n",
    "        df[col] = df[col].str.extract('(\\d+)').astype(float)\n",
    "    return(df)\n",
    "\n",
    "def get_prop_missing_values(df):\n",
    "    print(\"Null info in data: \", df.isna().any().sum())\n",
    "    #prop_missing = round((df[df.columns[:]].isnull().sum()/df[df.columns[:]].count())*100,4)\n",
    "    prop_missing = round((df.isnull().sum()/len(df))*100,2)\n",
    "    print(\"These are the missing values proportions in each column\")\n",
    "    print(prop_missing)\n",
    "    return()\n",
    "\n",
    "\n",
    "def __SetColumnTypes(df, change_to_int_list = ['col1']):\n",
    "    cols = df.columns\n",
    "    try:\n",
    "        df = __GetIntCols(df, change_to_int_list)\n",
    "    except:\n",
    "        pass\n",
    "    # Check for any null values in the data\n",
    "    print(\"% Missing data in each column \\n\",get_prop_missing_values(df))\n",
    "    return(df, cols)\n",
    "\n",
    "\n",
    "# For this particular dataframe\n",
    "\n",
    "df['ds'] = pd.to_datetime(df['ds'])\n",
    "clean_df, cols = __SetColumnTypes(df)\n",
    "\n",
    "# Get list of column by types\n",
    "num_cols = df.select_dtypes(include=np.number).columns.tolist()\n",
    "cat_cols = list(set(cols) - set(num_cols))\n",
    "cat_cols.remove('ds')\n",
    "print(cat_cols)"
   ]
  },
  {
   "cell_type": "code",
   "execution_count": 4,
   "metadata": {},
   "outputs": [
    {
     "name": "stdout",
     "output_type": "stream",
     "text": [
      "No missing timesteps for group 1\n",
      "No missing timesteps for group 2\n",
      "No missing timesteps for group 3\n",
      "Missing timesteps for group 4\n",
      "Group len VS Timesteps\n",
      "4344 14592\n",
      "No missing timesteps for group 4\n"
     ]
    },
    {
     "data": {
      "text/plain": [
       "()"
      ]
     },
     "execution_count": 4,
     "metadata": {},
     "output_type": "execute_result"
    }
   ],
   "source": [
    "def __CheckMissingTimeSteps(dfs, group_col):\n",
    "    tdf = pd.DataFrame({'date': pd.date_range(start='2015-11-01 00:00:00', end='2017-06-30 23:00:00', freq='H')})\n",
    "    len_tdf = len(tdf)\n",
    "    vals = dfs[group_col].unique()\n",
    "    for i in vals:\n",
    "        if len(dfs[dfs[group_col] == i]) == len_tdf:\n",
    "            print(\"No missing timesteps for group\", i)\n",
    "        else:\n",
    "            print(\"Missing timesteps for group\", i)\n",
    "            print(\"Group len VS Timesteps\")\n",
    "            print(len(dfs[dfs[group_col] == i]), len_tdf)\n",
    "    return()\n",
    "\n",
    "__CheckMissingTimeSteps(clean_df, group_col='Junction')\n",
    "\n",
    "#Since we see missing timesteps in group 4, we checked and found that group4 started at later date. Checking again:\n",
    "\n",
    "def __CheckMissingTimeSteps(dfs, group_col):\n",
    "    tdf = pd.DataFrame({'date': pd.date_range(start='2017-01-01 00:00:00', end='2017-06-30 23:00:00', freq='H')})\n",
    "    len_tdf = len(tdf)\n",
    "    vals = dfs[group_col].unique()\n",
    "    for i in vals:\n",
    "        if len(dfs[dfs[group_col] == i]) == len_tdf:\n",
    "            print(\"No missing timesteps for group\", i)\n",
    "        else:\n",
    "            print(\"Missing timesteps for group\", i)\n",
    "            print(\"Group len VS Timesteps\")\n",
    "            print(len(dfs[dfs[group_col] == i]), len_tdf)\n",
    "    return()\n",
    "\n",
    "__CheckMissingTimeSteps(clean_df[clean_df['Junction'] == 4], group_col='Junction')"
   ]
  },
  {
   "cell_type": "markdown",
   "metadata": {},
   "source": [
    "## Module 3 : Pre-Proccess Model Data"
   ]
  },
  {
   "cell_type": "code",
   "execution_count": 5,
   "metadata": {},
   "outputs": [
    {
     "name": "stdout",
     "output_type": "stream",
     "text": [
      "1\n",
      "Min date train main 2015-11-01 00:00:00 Max date train main 2017-03-01 08:00:00\n",
      "Min date test main 2017-03-01 09:00:00 Max date test main 2017-06-30 23:00:00\n",
      "Length of train 11673 Length of test 2919\n",
      "2\n",
      "Min date train main 2015-11-01 00:00:00 Max date train main 2017-03-01 08:00:00\n",
      "Min date test main 2017-03-01 09:00:00 Max date test main 2017-06-30 23:00:00\n",
      "Length of train 11673 Length of test 2919\n",
      "3\n",
      "Min date train main 2015-11-01 00:00:00 Max date train main 2017-03-01 08:00:00\n",
      "Min date test main 2017-03-01 09:00:00 Max date test main 2017-06-30 23:00:00\n",
      "Length of train 11673 Length of test 2919\n",
      "4\n",
      "Min date train main 2017-01-01 00:00:00 Max date train main 2017-05-25 18:00:00\n",
      "Min date test main 2017-05-25 19:00:00 Max date test main 2017-06-30 23:00:00\n",
      "Length of train 3475 Length of test 869\n",
      "Got splits for all Junctions\n"
     ]
    }
   ],
   "source": [
    "# Helper functions\n",
    "# Split dataframe\n",
    "def __SplitTrainTest(X, prop = 0.95):\n",
    "    '''Takes in the dataframe and proprtion of train size and returns the train and test sets'''\n",
    "    X.sort_values(by='ds', ascending=True, inplace = True)\n",
    "    train_size = int(len(X) * prop)\n",
    "    train, test = X[0:train_size], X[train_size:len(X)]\n",
    "    print(\"Min date train main\", train.ds.min(), \"Max date train main\", train.ds.max())\n",
    "    print(\"Min date test main\", test.ds.min(), \"Max date test main\", test.ds.max())\n",
    "    print(\"Length of train\", len(train), \"Length of test\", len(test))\n",
    "    return(train, test)\n",
    "\n",
    "\n",
    "\n",
    "\n",
    "tr = []\n",
    "ts = []\n",
    "for i in clean_df.Junction.unique().tolist():\n",
    "    print(i)\n",
    "    i_Df = clean_df[clean_df['Junction'] == i]\n",
    "    train_i_df, test_i_df = __SplitTrainTest(i_Df, prop = 0.80)\n",
    "    tr.append(train_i_df)\n",
    "    ts.append(test_i_df)\n",
    "        \n",
    "print(\"Got splits for all Junctions\")\n",
    "train_df = pd.concat(tr)\n",
    "test_df = pd.concat(ts)\n",
    "\n",
    "train_df = train_df.reset_index(drop=True)\n",
    "test_df = test_df.reset_index(drop=True)"
   ]
  },
  {
   "cell_type": "code",
   "execution_count": 6,
   "metadata": {},
   "outputs": [
    {
     "name": "stdout",
     "output_type": "stream",
     "text": [
      "Shape of train (38494, 6) Shape of test (9626, 6)\n"
     ]
    }
   ],
   "source": [
    "print(\"Shape of train\", train_df.shape, \"Shape of test\", test_df.shape)"
   ]
  },
  {
   "cell_type": "markdown",
   "metadata": {},
   "source": [
    "## Module 4 : Exploratory Data Analysis"
   ]
  },
  {
   "cell_type": "code",
   "execution_count": 7,
   "metadata": {},
   "outputs": [
    {
     "name": "stdout",
     "output_type": "stream",
     "text": [
      "Distribution for\n",
      "a\n",
      "Cat col not found\n"
     ]
    },
    {
     "data": {
      "image/png": "[encoded data removed]",
      "text/plain": [
       "<Figure size 1440x1080 with 6 Axes>"
      ]
     },
     "metadata": {
      "needs_background": "light"
     },
     "output_type": "display_data"
    },
    {
     "data": {
      "text/html": [
       "<div>\n",
       "<style scoped>\n",
       "    .dataframe tbody tr th:only-of-type {\n",
       "        vertical-align: middle;\n",
       "    }\n",
       "\n",
       "    .dataframe tbody tr th {\n",
       "        vertical-align: top;\n",
       "    }\n",
       "\n",
       "    .dataframe thead th {\n",
       "        text-align: right;\n",
       "    }\n",
       "</style>\n",
       "<table border=\"1\" class=\"dataframe\">\n",
       "  <thead>\n",
       "    <tr style=\"text-align: right;\">\n",
       "      <th></th>\n",
       "      <th>Junction</th>\n",
       "      <th>y</th>\n",
       "      <th>ID</th>\n",
       "      <th>cap</th>\n",
       "      <th>floor</th>\n",
       "    </tr>\n",
       "  </thead>\n",
       "  <tbody>\n",
       "    <tr>\n",
       "      <td>count</td>\n",
       "      <td>38494.00</td>\n",
       "      <td>38494.00</td>\n",
       "      <td>38494.00</td>\n",
       "      <td>38494.00</td>\n",
       "      <td>38494.00</td>\n",
       "    </tr>\n",
       "    <tr>\n",
       "      <td>mean</td>\n",
       "      <td>2.18</td>\n",
       "      <td>20.09</td>\n",
       "      <td>20161508221.60</td>\n",
       "      <td>149.69</td>\n",
       "      <td>1.00</td>\n",
       "    </tr>\n",
       "    <tr>\n",
       "      <td>std</td>\n",
       "      <td>0.97</td>\n",
       "      <td>17.85</td>\n",
       "      <td>5299209.07</td>\n",
       "      <td>60.78</td>\n",
       "      <td>0.00</td>\n",
       "    </tr>\n",
       "    <tr>\n",
       "      <td>min</td>\n",
       "      <td>1.00</td>\n",
       "      <td>1.00</td>\n",
       "      <td>20151101001.00</td>\n",
       "      <td>66.00</td>\n",
       "      <td>1.00</td>\n",
       "    </tr>\n",
       "    <tr>\n",
       "      <td>25%</td>\n",
       "      <td>1.00</td>\n",
       "      <td>8.00</td>\n",
       "      <td>20160313155.00</td>\n",
       "      <td>78.00</td>\n",
       "      <td>1.00</td>\n",
       "    </tr>\n",
       "    <tr>\n",
       "      <td>50%</td>\n",
       "      <td>2.00</td>\n",
       "      <td>14.00</td>\n",
       "      <td>20160725072.50</td>\n",
       "      <td>186.00</td>\n",
       "      <td>1.00</td>\n",
       "    </tr>\n",
       "    <tr>\n",
       "      <td>75%</td>\n",
       "      <td>3.00</td>\n",
       "      <td>25.00</td>\n",
       "      <td>20161205231.75</td>\n",
       "      <td>210.00</td>\n",
       "      <td>1.00</td>\n",
       "    </tr>\n",
       "    <tr>\n",
       "      <td>max</td>\n",
       "      <td>4.00</td>\n",
       "      <td>180.00</td>\n",
       "      <td>20170525184.00</td>\n",
       "      <td>210.00</td>\n",
       "      <td>1.00</td>\n",
       "    </tr>\n",
       "  </tbody>\n",
       "</table>\n",
       "</div>"
      ],
      "text/plain": [
       "       Junction        y             ID      cap    floor\n",
       "count  38494.00 38494.00       38494.00 38494.00 38494.00\n",
       "mean       2.18    20.09 20161508221.60   149.69     1.00\n",
       "std        0.97    17.85     5299209.07    60.78     0.00\n",
       "min        1.00     1.00 20151101001.00    66.00     1.00\n",
       "25%        1.00     8.00 20160313155.00    78.00     1.00\n",
       "50%        2.00    14.00 20160725072.50   186.00     1.00\n",
       "75%        3.00    25.00 20161205231.75   210.00     1.00\n",
       "max        4.00   180.00 20170525184.00   210.00     1.00"
      ]
     },
     "execution_count": 7,
     "metadata": {},
     "output_type": "execute_result"
    }
   ],
   "source": [
    "def __ExploringDataframe(df, cat_list= ['a']):\n",
    "    try:\n",
    "        for col in cat_list:\n",
    "            print(\"Distribution for\")\n",
    "            print(col)\n",
    "            print(df[col].value_counts())\n",
    "    except:\n",
    "        print(\"Cat col not found\")\n",
    "    # Above data as plots\n",
    "    df.hist(bins=50, figsize=(20,15))\n",
    "    plt.show()\n",
    "    return()\n",
    "\n",
    "__ExploringDataframe(train_df)\n",
    "\n",
    "# Lets look at the rest of the fields - we can check out the numeric data using describe method\n",
    "train_df.describe()"
   ]
  },
  {
   "cell_type": "markdown",
   "metadata": {},
   "source": [
    "## Module 5 : Prepare Model Data"
   ]
  },
  {
   "cell_type": "code",
   "execution_count": 8,
   "metadata": {},
   "outputs": [],
   "source": [
    "def __PrepModelDf(model_df):\n",
    "    df = model_df.copy()\n",
    "    df.set_index('ds', drop = False, inplace = True)\n",
    "    df_id = df[\"ID\"].copy()\n",
    "    df = df.drop([\"ID\"], axis = 1)\n",
    "    df = df.drop([\"Junction\"], axis = 1)\n",
    "    return(df, df_id)\n",
    "\n",
    "\n",
    "def mean_absolute_percentage_error(y_true, y_pred): \n",
    "    y_true, y_pred = np.array(y_true), np.array(y_pred)\n",
    "    return np.mean(np.abs((y_true - y_pred) / y_true)) * 100\n",
    "\n",
    "\n",
    "def __GetError(test, forecast):\n",
    "    actual = pd.Series(test['y'])\n",
    "    actual = actual.tolist()\n",
    "    predictions = forecast['yhat']\n",
    "    forecast['actual'] = actual\n",
    "    min_val = min(actual)\n",
    "    forecast['yhat'] = np.where(forecast['yhat'] < 0, min_val, forecast['yhat'])\n",
    "    mape = mean_absolute_percentage_error(actual, forecast['yhat'])\n",
    "    print(mape)\n",
    "    return(forecast)\n",
    "\n",
    "\n",
    "def __PlotPrediction(train, test, forecast):\n",
    "    fig = plt.figure(facecolor='w', figsize=(20, 6))\n",
    "    plt.plot(train.ds, train.y,  label='Train')\n",
    "    plt.plot(test.ds, test.y,  label='Test')\n",
    "    plt.plot(test.ds, forecast['yhat'],  label='Predicted')\n",
    "    plt.show()\n",
    "    return()\n"
   ]
  },
  {
   "cell_type": "markdown",
   "metadata": {},
   "source": [
    "## Module 6: Detect Outliers using Prophet"
   ]
  },
  {
   "cell_type": "code",
   "execution_count": 9,
   "metadata": {},
   "outputs": [],
   "source": [
    "from fbprophet import Prophet\n",
    "\n",
    "def __ProphetForAnomalyDetection(train, test):\n",
    "    '''Fits the prophet model on '''\n",
    "\n",
    "    ls = []\n",
    "    for i in train.Junction.unique().tolist():\n",
    "#     for i in [4]:\n",
    "        print(i)\n",
    "        tr_i = train[train['Junction'] == i]\n",
    "        ts_i = test[test['Junction'] == i]\n",
    "        \n",
    "        # Prep Data\n",
    "        tr_df, tr_id = __PrepModelDf(tr_i)\n",
    "        ts_df, ts_id = __PrepModelDf(ts_i)\n",
    "\n",
    "        print(\"Shape of tr_df\", tr_df.shape,\"Shape of ts_df\", ts_df.shape)\n",
    "        #Fit model\n",
    "        if i == 1:\n",
    "            interval_width = 0.99\n",
    "            changepoint_range = 0.1\n",
    "            m1 = Prophet(growth='logistic', daily_seasonality = True, yearly_seasonality = True, weekly_seasonality = True,\n",
    "                         seasonality_mode = 'multiplicative', interval_width = interval_width,\n",
    "                         changepoint_range = changepoint_range) \n",
    "        elif i == 2:\n",
    "            interval_width = 0.90\n",
    "            changepoint_range = 0.8\n",
    "            m1 = Prophet(growth='logistic', daily_seasonality = True, yearly_seasonality = False, weekly_seasonality = True,\n",
    "                seasonality_mode = 'multiplicative', \n",
    "                interval_width = interval_width,\n",
    "                changepoint_range = changepoint_range) #18.3\n",
    "            \n",
    "        elif i == 3:\n",
    "            \n",
    "            interval_width = 0.99 \n",
    "            changepoint_range = 0.1\n",
    "            m1 = Prophet(daily_seasonality = True, yearly_seasonality = False, weekly_seasonality = True, \n",
    "                         seasonality_mode = 'multiplicative', interval_width = interval_width, \n",
    "                         changepoint_range = changepoint_range) \n",
    "        \n",
    "        else:\n",
    "            interval_width = 0.90 \n",
    "            changepoint_range = 0.10\n",
    "            m1 = Prophet(daily_seasonality = True, yearly_seasonality = False, weekly_seasonality = True,\n",
    "                         seasonality_mode = 'multiplicative', interval_width = interval_width, \n",
    "                         changepoint_range = changepoint_range)\n",
    "\n",
    "        m1.fit(tr_df)\n",
    "        forecast_tr = m1.predict(tr_df)\n",
    "        forecast_ts = m1.predict(ts_df)\n",
    "        __GetError(ts_df, forecast_ts)\n",
    "        frames = [forecast_tr, forecast_ts]\n",
    "        full_df = pd.concat(frames)\n",
    "        \n",
    "        print(\"Model trained\")\n",
    "\n",
    "        print(\"Predicting for actual test data\")\n",
    "        forecast_df = pd.DataFrame(full_df)\n",
    "\n",
    "\n",
    "        forecast_df['ID'] = list(tr_id) + list(ts_id)\n",
    "        forecast_df['Junction'] = i\n",
    "        print(\"Shape of forecast_df\", forecast_df.shape)\n",
    "        \n",
    "        try:\n",
    "            actual_tr = pd.Series(tr_df['y'])\n",
    "            actual_tr = actual_tr.tolist()\n",
    "            actual_ts = pd.Series(ts_df['y'])\n",
    "            actual_ts = actual_ts.tolist()\n",
    "            forecast_df['actual'] = actual_tr + actual_ts\n",
    "            forecast_df = forecast_df[['ID' , 'ds','trend', 'yhat', 'yhat_lower', 'yhat_upper', 'actual']]\n",
    "        except:\n",
    "            print(\"Predicting for actual test data\")\n",
    "            forecast_df = forecast_df[['ID', 'ds','trend', 'yhat', 'yhat_lower', 'yhat_upper']]\n",
    "        \n",
    "        ls.append(forecast_df)\n",
    "        \n",
    "    print(\"Got predictions for all Junctions\")\n",
    "    out_df = pd.concat(ls)\n",
    "    out_df = out_df.reset_index(drop=True)\n",
    "    try:\n",
    "        print(mean_absolute_percentage_error(out_df.yhat, out_df.actual))\n",
    "    except:\n",
    "        pass\n",
    "    return(out_df)"
   ]
  },
  {
   "cell_type": "code",
   "execution_count": 10,
   "metadata": {},
   "outputs": [
    {
     "name": "stdout",
     "output_type": "stream",
     "text": [
      "1\n",
      "Shape of tr_df (11673, 4) Shape of ts_df (2919, 4)\n",
      "14.227595511958102\n",
      "Model trained\n",
      "Predicting for actual test data\n",
      "Shape of forecast_df (14592, 27)\n",
      "2\n",
      "Shape of tr_df (11673, 4) Shape of ts_df (2919, 4)\n",
      "14.75052864478075\n",
      "Model trained\n",
      "Predicting for actual test data\n",
      "Shape of forecast_df (14592, 24)\n",
      "3\n",
      "Shape of tr_df (11673, 4) Shape of ts_df (2919, 4)\n",
      "38.720652902306774\n",
      "Model trained\n",
      "Predicting for actual test data\n",
      "Shape of forecast_df (14592, 23)\n",
      "4\n",
      "Shape of tr_df (3475, 4) Shape of ts_df (869, 4)\n",
      "33.924238927410514\n",
      "Model trained\n",
      "Predicting for actual test data\n",
      "Shape of forecast_df (4344, 23)\n",
      "Got predictions for all Junctions\n",
      "25.09392867978473\n"
     ]
    }
   ],
   "source": [
    "prophet_df = __ProphetForAnomalyDetection(train_df, test_df)"
   ]
  },
  {
   "cell_type": "code",
   "execution_count": 11,
   "metadata": {},
   "outputs": [],
   "source": [
    "def detect_anomalies(forecast):\n",
    "    forecasted = forecast[['ID' ,'ds','trend', 'yhat', 'yhat_lower', 'yhat_upper', 'actual']].copy()\n",
    "    #forecast['fact'] = df['y']\n",
    "\n",
    "    forecasted['anomaly'] = 0\n",
    "    forecasted.loc[forecasted['actual'] > forecasted['yhat_upper'], 'anomaly'] = 1\n",
    "    forecasted.loc[forecasted['actual'] < forecasted['yhat_lower'], 'anomaly'] = -1\n",
    "\n",
    "    #anomaly importances\n",
    "    forecasted['importance'] = 0\n",
    "    forecasted.loc[forecasted['anomaly'] ==1, 'importance'] = \\\n",
    "        (forecasted['actual'] - forecasted['yhat_upper'])/forecast['actual']\n",
    "    forecasted.loc[forecasted['anomaly'] ==-1, 'importance'] = \\\n",
    "        (forecasted['yhat_lower'] - forecasted['actual'])/forecast['actual']\n",
    "    \n",
    "    return forecasted\n",
    "\n",
    "pred = detect_anomalies(prophet_df)"
   ]
  },
  {
   "cell_type": "code",
   "execution_count": 12,
   "metadata": {},
   "outputs": [
    {
     "name": "stdout",
     "output_type": "stream",
     "text": [
      "            ID     ds  trend   yhat  yhat_lower  yhat_upper  actual  anomaly  importance\n",
      "anomaly                                                                                 \n",
      "-1        1066    952   1066   1066        1066        1066      86        1        1066\n",
      " 0       45225  14592  45225  45225       45225       45225     121        1           1\n",
      " 1        1829   1627   1829   1829        1829        1829     132        1        1829\n",
      "               ID     ds  trend   yhat  yhat_lower  yhat_upper  actual  anomaly  importance  is_anomaly\n",
      "is_anomaly                                                                                             \n",
      "0           48020  14592  48020  48020       48020       48020     137        3        2796           1\n",
      "1             100     99    100    100         100         100      33        2         100           1\n"
     ]
    }
   ],
   "source": [
    "print(pred.groupby('anomaly').nunique())\n",
    "pred['is_anomaly'] = np.where(pred['importance'] >= 0.6, 1, 0)\n",
    "print(pred.groupby('is_anomaly').nunique())\n",
    "anomaly_df = pred[['ID', 'is_anomaly']]"
   ]
  },
  {
   "cell_type": "code",
   "execution_count": 13,
   "metadata": {},
   "outputs": [
    {
     "name": "stdout",
     "output_type": "stream",
     "text": [
      "Shape of train (38494, 6)\n",
      "Shape of train (38494, 7)\n"
     ]
    }
   ],
   "source": [
    "print(\"Shape of train\", train_df.shape)\n",
    "train_df = pd.merge(train_df, anomaly_df, on='ID', how = 'left')\n",
    "print(\"Shape of train\", train_df.shape)"
   ]
  },
  {
   "cell_type": "code",
   "execution_count": 14,
   "metadata": {},
   "outputs": [
    {
     "name": "stdout",
     "output_type": "stream",
     "text": [
      "Shape of test (9626, 6)\n",
      "Shape of test_df (9626, 7)\n"
     ]
    }
   ],
   "source": [
    "print(\"Shape of test\", test_df.shape)\n",
    "test_df = pd.merge(test_df, anomaly_df, on='ID', how = 'left')\n",
    "print(\"Shape of test_df\", test_df.shape)"
   ]
  },
  {
   "cell_type": "code",
   "execution_count": 15,
   "metadata": {},
   "outputs": [],
   "source": [
    "train_df['y'] = np.where(train_df['is_anomaly'] == 1, np.NaN, train_df['y'])\n",
    "train_df = train_df.drop([\"is_anomaly\"], axis = 1)\n",
    "test_df['y'] = np.where(test_df['is_anomaly'] == 1, np.NaN, test_df['y'])\n",
    "test_df = test_df.drop([\"is_anomaly\"], axis = 1)"
   ]
  },
  {
   "cell_type": "code",
   "execution_count": 16,
   "metadata": {},
   "outputs": [
    {
     "name": "stdout",
     "output_type": "stream",
     "text": [
      "Shape of train_df (38494, 6)\n",
      "Shape of test_df (9626, 6)\n"
     ]
    }
   ],
   "source": [
    "print(\"Shape of train_df\", train_df.shape)\n",
    "print(\"Shape of test_df\", test_df.shape)"
   ]
  },
  {
   "cell_type": "markdown",
   "metadata": {},
   "source": [
    "## Module 7 : Train Model"
   ]
  },
  {
   "cell_type": "code",
   "execution_count": 35,
   "metadata": {},
   "outputs": [],
   "source": [
    "\n",
    "\n",
    "def __ProphetFit(train, test):\n",
    "    '''Fits the prophet model on train test and predicts. Returns predicted dataframe '''\n",
    "\n",
    "    ls = []\n",
    "#     for i in train.Junction.unique().tolist():\n",
    "    for i in [3]:\n",
    "        print(i)\n",
    "        tr_i = train[train['Junction'] == i]\n",
    "        ts_i = test[test['Junction'] == i]\n",
    "        \n",
    "        # Prep Data\n",
    "        tr_df, tr_id = __PrepModelDf(tr_i)\n",
    "        ts_df, ts_id = __PrepModelDf(ts_i)\n",
    "        \n",
    "        print(\"Shape of train\", tr_df.shape, \"Shape of test\", ts_df.shape)\n",
    "        #Fit model\n",
    "        if i == 1:\n",
    "            interval_width = 0.99\n",
    "            changepoint_range = 0.1\n",
    "            m1 = Prophet(growth='logistic', daily_seasonality = True, yearly_seasonality = True, weekly_seasonality = True,\n",
    "                         seasonality_mode = 'multiplicative', interval_width = interval_width,\n",
    "                         changepoint_range = changepoint_range) \n",
    "        elif i == 2:\n",
    "            interval_width = 0.90\n",
    "            changepoint_range = 0.815\n",
    "            m1 = Prophet(growth='logistic', daily_seasonality = True, yearly_seasonality = False, weekly_seasonality = True,\n",
    "                seasonality_mode = 'multiplicative', \n",
    "                interval_width = interval_width,\n",
    "                changepoint_range = changepoint_range) #18.3\n",
    "            \n",
    "        elif i == 3:\n",
    "            \n",
    "            interval_width = 0.99 \n",
    "            changepoint_range = 0.1\n",
    "            m1 = Prophet(daily_seasonality = True, yearly_seasonality = False, weekly_seasonality = True, \n",
    "                         seasonality_mode = 'multiplicative', interval_width = interval_width, \n",
    "                         changepoint_range = changepoint_range) \n",
    "        \n",
    "        else:\n",
    "            interval_width = 0.90 \n",
    "            changepoint_range = 0.10\n",
    "            m1 = Prophet(daily_seasonality = True, yearly_seasonality = False, weekly_seasonality = True,\n",
    "                         seasonality_mode = 'multiplicative', interval_width = interval_width, \n",
    "                         changepoint_range = changepoint_range) \n",
    "        m1.fit(tr_df)\n",
    "\n",
    "\n",
    "        forecast = m1.predict(ts_df)\n",
    "        print(\"Model trained\")\n",
    "        # Plots\n",
    "        # fig1 = m1.plot(forecast)\n",
    "        # fig2 = m1.plot_components(forecast)\n",
    "        try:\n",
    "            forecast_df = __GetError(ts_df, forecast)\n",
    "            __PlotPrediction(tr_df, ts_df, forecast_df)\n",
    "        except:\n",
    "            print(\"Predicting for actual test data\")\n",
    "            forecast_df = pd.DataFrame(forecast)\n",
    "        \n",
    "        forecast_df['ID'] = list(ts_id)\n",
    "        forecast_df['Junction'] = i\n",
    "        print(\"Shape of forecast_df\", forecast_df.shape)\n",
    "        \n",
    "        try:\n",
    "            forecast_df = forecast_df[['ID', 'actual', 'yhat']]\n",
    "        except:\n",
    "            print(\"Predicting for actual test data\")\n",
    "            forecast_df = forecast_df[['ID', 'yhat']]\n",
    "    \n",
    "        forecast_df.rename(columns={'yhat': 'Vehicles'}, inplace=True)\n",
    "        \n",
    "        ls.append(forecast_df)\n",
    "        \n",
    "    print(\"Got predictions for all Junctions\")\n",
    "    out_df = pd.concat(ls)\n",
    "    try:\n",
    "        print(mean_absolute_percentage_error(out_df.actual, out_df.Vehicles))\n",
    "    except:\n",
    "        pass\n",
    "    return(out_df)"
   ]
  },
  {
   "cell_type": "code",
   "execution_count": 36,
   "metadata": {},
   "outputs": [
    {
     "name": "stdout",
     "output_type": "stream",
     "text": [
      "3\n",
      "Shape of train (11673, 4) Shape of test (2919, 4)\n",
      "Model trained\n",
      "nan\n"
     ]
    },
    {
     "data": {
      "image/png": "[encoded data removed]",
      "text/plain": [
       "<Figure size 1440x432 with 1 Axes>"
      ]
     },
     "metadata": {},
     "output_type": "display_data"
    },
    {
     "name": "stdout",
     "output_type": "stream",
     "text": [
      "Shape of forecast_df (2919, 23)\n",
      "Got predictions for all Junctions\n",
      "nan\n"
     ]
    }
   ],
   "source": [
    "test_predicted_df = __ProphetFit(train_df, test_df)"
   ]
  },
  {
   "cell_type": "code",
   "execution_count": 19,
   "metadata": {},
   "outputs": [
    {
     "name": "stdout",
     "output_type": "stream",
     "text": [
      "1\n",
      "Shape of train (14592, 4) Shape of test (2952, 3)\n",
      "Model trained\n",
      "Predicting for actual test data\n",
      "Shape of forecast_df (2952, 26)\n",
      "Predicting for actual test data\n",
      "2\n",
      "Shape of train (14592, 4) Shape of test (2952, 3)\n",
      "Model trained\n",
      "Predicting for actual test data\n",
      "Shape of forecast_df (2952, 23)\n",
      "Predicting for actual test data\n",
      "3\n",
      "Shape of train (14592, 4) Shape of test (2952, 3)\n",
      "Model trained\n",
      "Predicting for actual test data\n",
      "Shape of forecast_df (2952, 22)\n",
      "Predicting for actual test data\n",
      "4\n",
      "Shape of train (4344, 4) Shape of test (2952, 3)\n",
      "Model trained\n",
      "Predicting for actual test data\n",
      "Shape of forecast_df (2952, 22)\n",
      "Predicting for actual test data\n",
      "Got predictions for all Junctions\n"
     ]
    }
   ],
   "source": [
    "predict_df = __ProphetFit(clean_df, test)"
   ]
  },
  {
   "cell_type": "code",
   "execution_count": 20,
   "metadata": {},
   "outputs": [
    {
     "data": {
      "text/plain": [
       "11808"
      ]
     },
     "execution_count": 20,
     "metadata": {},
     "output_type": "execute_result"
    }
   ],
   "source": [
    "len(test)"
   ]
  },
  {
   "cell_type": "code",
   "execution_count": 21,
   "metadata": {},
   "outputs": [
    {
     "data": {
      "text/plain": [
       "11808"
      ]
     },
     "execution_count": 21,
     "metadata": {},
     "output_type": "execute_result"
    }
   ],
   "source": [
    "len(predict_df)"
   ]
  },
  {
   "cell_type": "code",
   "execution_count": 23,
   "metadata": {},
   "outputs": [],
   "source": [
    "predict_df['Vehicles'] = predict_df['Vehicles'].astype(float).round().astype(int)"
   ]
  },
  {
   "cell_type": "code",
   "execution_count": 24,
   "metadata": {},
   "outputs": [
    {
     "data": {
      "text/html": [
       "<div>\n",
       "<style scoped>\n",
       "    .dataframe tbody tr th:only-of-type {\n",
       "        vertical-align: middle;\n",
       "    }\n",
       "\n",
       "    .dataframe tbody tr th {\n",
       "        vertical-align: top;\n",
       "    }\n",
       "\n",
       "    .dataframe thead th {\n",
       "        text-align: right;\n",
       "    }\n",
       "</style>\n",
       "<table border=\"1\" class=\"dataframe\">\n",
       "  <thead>\n",
       "    <tr style=\"text-align: right;\">\n",
       "      <th></th>\n",
       "      <th>ID</th>\n",
       "      <th>Vehicles</th>\n",
       "    </tr>\n",
       "  </thead>\n",
       "  <tbody>\n",
       "    <tr>\n",
       "      <td>0</td>\n",
       "      <td>20170701001</td>\n",
       "      <td>71</td>\n",
       "    </tr>\n",
       "    <tr>\n",
       "      <td>1</td>\n",
       "      <td>20170701011</td>\n",
       "      <td>60</td>\n",
       "    </tr>\n",
       "    <tr>\n",
       "      <td>2</td>\n",
       "      <td>20170701021</td>\n",
       "      <td>49</td>\n",
       "    </tr>\n",
       "    <tr>\n",
       "      <td>3</td>\n",
       "      <td>20170701031</td>\n",
       "      <td>40</td>\n",
       "    </tr>\n",
       "    <tr>\n",
       "      <td>4</td>\n",
       "      <td>20170701041</td>\n",
       "      <td>33</td>\n",
       "    </tr>\n",
       "  </tbody>\n",
       "</table>\n",
       "</div>"
      ],
      "text/plain": [
       "            ID  Vehicles\n",
       "0  20170701001        71\n",
       "1  20170701011        60\n",
       "2  20170701021        49\n",
       "3  20170701031        40\n",
       "4  20170701041        33"
      ]
     },
     "execution_count": 24,
     "metadata": {},
     "output_type": "execute_result"
    }
   ],
   "source": [
    "predict_df.head()"
   ]
  },
  {
   "cell_type": "markdown",
   "metadata": {},
   "source": [
    "## Module 8 : Predict"
   ]
  },
  {
   "cell_type": "code",
   "execution_count": 25,
   "metadata": {},
   "outputs": [
    {
     "name": "stdout",
     "output_type": "stream",
     "text": [
      "sample_submission_KVKNmI7.csv : Read csv to dataframe sucessfully\n",
      "Shape of dataframe (11808, 2) Memory Usage 189088\n"
     ]
    },
    {
     "data": {
      "text/html": [
       "<div>\n",
       "<style scoped>\n",
       "    .dataframe tbody tr th:only-of-type {\n",
       "        vertical-align: middle;\n",
       "    }\n",
       "\n",
       "    .dataframe tbody tr th {\n",
       "        vertical-align: top;\n",
       "    }\n",
       "\n",
       "    .dataframe thead th {\n",
       "        text-align: right;\n",
       "    }\n",
       "</style>\n",
       "<table border=\"1\" class=\"dataframe\">\n",
       "  <thead>\n",
       "    <tr style=\"text-align: right;\">\n",
       "      <th></th>\n",
       "      <th>ID</th>\n",
       "      <th>Vehicles</th>\n",
       "    </tr>\n",
       "  </thead>\n",
       "  <tbody>\n",
       "    <tr>\n",
       "      <td>0</td>\n",
       "      <td>20170701001</td>\n",
       "      <td>50</td>\n",
       "    </tr>\n",
       "    <tr>\n",
       "      <td>1</td>\n",
       "      <td>20170701011</td>\n",
       "      <td>50</td>\n",
       "    </tr>\n",
       "    <tr>\n",
       "      <td>2</td>\n",
       "      <td>20170701021</td>\n",
       "      <td>50</td>\n",
       "    </tr>\n",
       "    <tr>\n",
       "      <td>3</td>\n",
       "      <td>20170701031</td>\n",
       "      <td>50</td>\n",
       "    </tr>\n",
       "    <tr>\n",
       "      <td>4</td>\n",
       "      <td>20170701041</td>\n",
       "      <td>50</td>\n",
       "    </tr>\n",
       "  </tbody>\n",
       "</table>\n",
       "</div>"
      ],
      "text/plain": [
       "            ID  Vehicles\n",
       "0  20170701001        50\n",
       "1  20170701011        50\n",
       "2  20170701021        50\n",
       "3  20170701031        50\n",
       "4  20170701041        50"
      ]
     },
     "execution_count": 25,
     "metadata": {},
     "output_type": "execute_result"
    }
   ],
   "source": [
    "sub_df = _ReadCsv_pd(folder, sub)\n",
    "sub_df.head()"
   ]
  },
  {
   "cell_type": "code",
   "execution_count": 26,
   "metadata": {},
   "outputs": [],
   "source": [
    "output_directory = \"./submissions/\"\n",
    "predict_df.to_csv(output_directory + \"ruhama_submission9.csv\", index=False)"
   ]
  },
  {
   "cell_type": "code",
   "execution_count": null,
   "metadata": {},
   "outputs": [],
   "source": []
  },
  {
   "cell_type": "code",
   "execution_count": null,
   "metadata": {},
   "outputs": [],
   "source": []
  },
  {
   "cell_type": "code",
   "execution_count": null,
   "metadata": {},
   "outputs": [],
   "source": []
  }
 ],
 "metadata": {
  "kernelspec": {
   "display_name": "Python 3.7.7 64-bit ('stanenv': conda)",
   "language": "python",
   "name": "python37764bitstanenvcondacb5abd8e03434c8b991652a8a0fe72b8"
  },
  "language_info": {
   "codemirror_mode": {
    "name": "ipython",
    "version": 3
   },
   "file_extension": ".py",
   "mimetype": "text/x-python",
   "name": "python",
   "nbconvert_exporter": "python",
   "pygments_lexer": "ipython3",
   "version": "3.7.7"
  }
 },
 "nbformat": 4,
 "nbformat_minor": 4
}
